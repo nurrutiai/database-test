{
 "cells": [
  {
   "cell_type": "code",
   "execution_count": 0,
   "metadata": {
    "application/vnd.databricks.v1+cell": {
     "cellMetadata": {},
     "inputWidgets": {},
     "nuid": "f26923b9-c7f9-41a2-b2a9-85bd0041fe3c",
     "showTitle": false,
     "title": ""
    }
   },
   "outputs": [],
   "source": [
    "import datetime\n",
    "from datetime import date, datetime\n",
    "import logging\n",
    "from pyspark.sql import SparkSession\n",
    "from pyspark.sql.functions import col"
   ]
  },
  {
   "cell_type": "code",
   "execution_count": 0,
   "metadata": {
    "application/vnd.databricks.v1+cell": {
     "cellMetadata": {},
     "inputWidgets": {},
     "nuid": "8b84e760-5942-4ef8-94a5-3760746dde87",
     "showTitle": false,
     "title": ""
    }
   },
   "outputs": [],
   "source": [
    "dbutils.widgets.text(name='fec_ejecucion', defaultValue='', label='fecha de ejecucion')\n",
    "txt_fec_ejecucion = dbutils.widgets.get(name='fec_ejecucion')"
   ]
  },
  {
   "cell_type": "code",
   "execution_count": 0,
   "metadata": {
    "application/vnd.databricks.v1+cell": {
     "cellMetadata": {},
     "inputWidgets": {},
     "nuid": "ceac737f-7604-407f-91ca-482a4137aa1f",
     "showTitle": false,
     "title": ""
    }
   },
   "outputs": [],
   "source": [
    "today = datetime.strptime(txt_fec_ejecucion, \"%Y-%m-%d\")\n",
    "year = str(today.year)\n",
    "month = str(today.month).zfill(2)\n",
    "day = str(today.day).zfill(2)"
   ]
  },
  {
   "cell_type": "code",
   "execution_count": 0,
   "metadata": {
    "application/vnd.databricks.v1+cell": {
     "cellMetadata": {},
     "inputWidgets": {},
     "nuid": "6cf64407-cbf8-4844-b6ae-4b7a361defdc",
     "showTitle": false,
     "title": ""
    }
   },
   "outputs": [],
   "source": [
    "tbl = \"ALUMNO\"\n",
    "raw_schema = \"UC_BANNER\"\n",
    "partition_field = \"ANIO_ADMISION\"\n",
    "file_routhe = \"dbfs:/mnt/lakehouse-bronze/ORACLE/ADMISION/{}/{}/\".format(raw_schema, tbl)\n",
    "sep_routhe = \"/\"\n",
    "silver_routhe = \"dbfs:/mnt/lakehouse-silver/ORACLE/\"\n",
    "silver_tbl_name = \"MST_TRV_{}\".format(tbl)\n",
    "raw_tbl_name = tbl\n",
    "tmp_tbl_name = \"RAW_{}\".format(tbl)\n",
    "extention = \".csv\"\n",
    "unserscore = \"_\"\n",
    "file_location = file_routhe+year+sep_routhe+month+sep_routhe+raw_tbl_name+unserscore+year+unserscore+month+unserscore+day+extention\n",
    "file_type = \"csv\"\n",
    "infer_schema = \"true\"\n",
    "delimiter = \"|\"\n",
    "schema = \"silver.\""
   ]
  },
  {
   "cell_type": "code",
   "execution_count": 0,
   "metadata": {
    "application/vnd.databricks.v1+cell": {
     "cellMetadata": {},
     "inputWidgets": {},
     "nuid": "975babe4-c16b-40ef-9f05-741395515657",
     "showTitle": true,
     "title": "log"
    }
   },
   "outputs": [],
   "source": [
    "log_routhe = \"dbfs:/mnt/lakehouse-silver/log/\"+silver_tbl_name\n",
    "start_process = datetime.now()\n",
    "start_process_time = start_process.strftime(\"%Y-%m-%d %H:%M:%S\")"
   ]
  },
  {
   "cell_type": "code",
   "execution_count": 0,
   "metadata": {
    "application/vnd.databricks.v1+cell": {
     "cellMetadata": {},
     "inputWidgets": {},
     "nuid": "20e4851d-fce5-449d-afe9-8377997dfc51",
     "showTitle": false,
     "title": ""
    }
   },
   "outputs": [],
   "source": [
    "# Instancia de DataFrame desde archivo csv\n",
    "df = spark.read.load(file_location, format=file_type, sep=delimiter, inferSchema=infer_schema, header=\"true\")"
   ]
  },
  {
   "cell_type": "code",
   "execution_count": 0,
   "metadata": {
    "application/vnd.databricks.v1+cell": {
     "cellMetadata": {},
     "inputWidgets": {},
     "nuid": "b976d771-20e1-4904-b448-dfd8cc186b9b",
     "showTitle": false,
     "title": ""
    }
   },
   "outputs": [],
   "source": [
    "# Creacion tabla temporal\n",
    "df.createOrReplaceTempView(tmp_tbl_name)"
   ]
  },
  {
   "cell_type": "code",
   "execution_count": 0,
   "metadata": {
    "application/vnd.databricks.v1+cell": {
     "cellMetadata": {},
     "inputWidgets": {},
     "nuid": "e458d2be-c388-4f30-a213-2008acf23c65",
     "showTitle": false,
     "title": ""
    }
   },
   "outputs": [],
   "source": [
    "\n",
    "d_table = spark.sql(\"\"\"\n",
    "                            SELECT \n",
    "                                1900 AS ANIO_ADMISION\n",
    "                                ,-1 AS COD_ALUMNO\n",
    "                                ,-1 AS COD_CURRICULUM\n",
    "                                ,-1 AS COD_NOM_VIA_ADMISION\n",
    "                                ,-1 AS COD_DETALLE_VIA_ADMISION\n",
    "                                ,-1 AS COD_PERS\n",
    "                                ,-1 AS NRO_ALUMNO\n",
    "                                ,-1 AS PRIORID_ACADEM\n",
    "                                ,-1 AS PROM_PPA\n",
    "                                ,-1 AS NOTA_TITUL\n",
    "                                ,-1 AS RUT\n",
    "                                ,-1 AS CANT_PERIODO_REALIZADO\n",
    "                                ,-1 AS TOT_CREDITO_INSCRIP\n",
    "                                ,-1 AS TOT_ASIGN_APROB\n",
    "                                ,-1 AS TOT_ASIGN_INSCRIP\n",
    "                                ,-1 AS COD_PARAM_107_PERIODO_ADMIS\n",
    "                                ,-1 AS COD_PARAM_113_SIT_MATRIC\n",
    "                                ,-1 AS TOT_CREDITO_CONVALID\n",
    "                                ,-1 AS TOT_CREDITO_INSCRIP_PERIODO\n",
    "                                ,-1 AS COD_PARAM_185_SIT_CAUSA\n",
    "                                ,-1 AS CANT_PERIODO_SUSPEND\n",
    "                                ,-1 AS COD_PARAM_112_SIT_BIBL\n",
    "                                ,-1 AS TOT_CREDITO_APROB\n",
    "                                ,-1 AS COD_PARAM_77_VIG\n",
    "                                ,-1 AS COD_CAMPUS\n",
    "                                ,-1 AS CURRICULUM_ANTECEDE\n",
    "                                ,-1 AS COD_ALUMNO_ANTECEDE\n",
    "                                ,-1 AS ANO_ARANCEL\n",
    "                                ,-1 AS COD_PLAN\n",
    "                                ,'SIN INFORMACION' AS NOM_ALUMNO\n",
    "                                ,'SIN INFORMACION' AS COD_PARAM_114_NOTA_PEND\n",
    "                                ,'SIN INFORMACION' AS TOT_CREDITO_NOTA_PEND\n",
    "                                ,'SIN INFORMACION' AS NRO_BIBL\n",
    "                                ,'SIN INFORMACION' AS COD_PARAM_115_AYUDANTE\n",
    "                                ,'SIN INFORMACION' AS COD_PARAM_257_CICLO_TERM\n",
    "                                ,'SIN INFORMACION' AS COD_PARAM_255_SANCION_ACADEM\n",
    "                                ,'SIN INFORMACION' AS COD_PARAM_254_CREDITO_MENOS_30\n",
    "                                ,'SIN INFORMACION' AS COD_PARAM_256_CREDEN_UNIV\n",
    "                                ,'SIN INFORMACION' AS COD_PARAM_178_ETAPA_INSCRIP\n",
    "                                ,'SIN INFORMACION' AS CANT_CERT_ASIGNACION_FAMILIA\n",
    "                                ,'SIN INFORMACION' AS COD_PARAM_116_DEPOR\n",
    "                                ,'SIN INFORMACION' AS TOT_CREDITO_MIN_APROB_PERIODO\n",
    "                                ,'SIN INFORMACION' AS TOT_CREDITO_OFG_APROB_PERIODO\n",
    "                                ,'SIN INFORMACION' AS TOT_CREDITO_OPT_APROB_PERIODO\n",
    "                                ,'SIN INFORMACION' AS TOT_CREDITO_MIN_APROB\n",
    "                                ,'SIN INFORMACION' AS TOT_CREDITO_OFG_APROB\n",
    "                                ,'SIN INFORMACION' AS TOT_CREDITO_OPT_APROB\n",
    "                                ,'SIN INFORMACION' AS PROM_ARITMETICO\n",
    "                                ,'SIN INFORMACION' AS COD_PARAM_99_ORIENTACION\n",
    "                                ,'SIN INFORMACION' AS ANO_REINCORP\n",
    "                                ,'SIN INFORMACION' AS COD_CURRICULUM_TITUL\n",
    "                                ,'SIN INFORMACION' AS COD_PARAM_107_PERIODO_REINCORP\n",
    "                                ,'SIN INFORMACION' AS COD_PARAM_260_POSIBLE_ELIM\n",
    "                                ,'SIN INFORMACION' AS COD_VOTO_DISTINC\n",
    "                                ,'SIN INFORMACION' AS PRIORID_ACADEM_INSCRIP\n",
    "                                ,'1900' AS FECHA_CAMBIO_SIT_CAUSA\n",
    "                                ,'1900' AS FECHA_REG\n",
    "                            union all\n",
    "                            SELECT \n",
    "                                ANO_ADMIS                        AS ANIO_ADMISION\n",
    "                                ,COD_ALUMNO                      AS COD_ALUMNO\n",
    "                                ,COD_CURRICULUM                  AS COD_CURRICULUM\n",
    "                                ,COD_PARAM_157_VIA_INGR          AS COD_NOM_VIA_ADMISION\n",
    "                                ,COD_PARAM_158_VIA_INGR_ESPEC    AS COD_DETALLE_VIA_ADMISION\n",
    "                                ,COD_PERS                        AS COD_PERS\n",
    "                                ,NRO_ALUMNO                      AS NRO_ALUMNO\n",
    "                                ,PRIORID_ACADEM\n",
    "                                ,PROM_PPA\n",
    "                                ,NOTA_TITUL\n",
    "                                ,RUT\n",
    "                                ,CANT_PERIODO_REALIZADO\n",
    "                                ,TOT_CREDITO_INSCRIP\n",
    "                                ,TOT_ASIGN_APROB\n",
    "                                ,TOT_ASIGN_INSCRIP\n",
    "                                ,COD_PARAM_107_PERIODO_ADMIS\n",
    "                                ,COD_PARAM_113_SIT_MATRIC\n",
    "                                ,TOT_CREDITO_CONVALID\n",
    "                                ,TOT_CREDITO_INSCRIP_PERIODO\n",
    "                                ,COD_PARAM_185_SIT_CAUSA\n",
    "                                ,CANT_PERIODO_SUSPEND\n",
    "                                ,COD_PARAM_112_SIT_BIBL\n",
    "                                ,TOT_CREDITO_APROB\n",
    "                                ,COD_PARAM_77_VIG\n",
    "                                ,COD_CAMPUS\n",
    "                                ,CURRICULUM_ANTECEDE\n",
    "                                ,COD_ALUMNO_ANTECEDE\n",
    "                                ,ANO_ARANCEL\n",
    "                                ,COD_PLAN\n",
    "                                ,NOM_ALUMNO\n",
    "                                ,COD_PARAM_114_NOTA_PEND\n",
    "                                ,TOT_CREDITO_NOTA_PEND\n",
    "                                ,NRO_BIBL\n",
    "                                ,COD_PARAM_115_AYUDANTE\n",
    "                                ,COD_PARAM_257_CICLO_TERM\n",
    "                                ,COD_PARAM_255_SANCION_ACADEM\n",
    "                                ,COD_PARAM_254_CREDITO_MENOS_30\n",
    "                                ,COD_PARAM_256_CREDEN_UNIV\n",
    "                                ,COD_PARAM_178_ETAPA_INSCRIP\n",
    "                                ,CANT_CERT_ASIGNACION_FAMILIA\n",
    "                                ,COD_PARAM_116_DEPOR\n",
    "                                ,TOT_CREDITO_MIN_APROB_PERIODO\n",
    "                                ,TOT_CREDITO_OFG_APROB_PERIODO\n",
    "                                ,TOT_CREDITO_OPT_APROB_PERIODO\n",
    "                                ,TOT_CREDITO_MIN_APROB\n",
    "                                ,TOT_CREDITO_OFG_APROB\n",
    "                                ,TOT_CREDITO_OPT_APROB\n",
    "                                ,PROM_ARITMETICO\n",
    "                                ,COD_PARAM_99_ORIENTACION\n",
    "                                ,ANO_REINCORP\n",
    "                                ,COD_CURRICULUM_TITUL\n",
    "                                ,COD_PARAM_107_PERIODO_REINCORP\n",
    "                                ,COD_PARAM_260_POSIBLE_ELIM\n",
    "                                ,COD_VOTO_DISTINC\n",
    "                                ,PRIORID_ACADEM_INSCRIP\n",
    "                                ,FECHA_CAMBIO_SIT_CAUSA\n",
    "                                ,FECHA_REG\n",
    "                            FROM \n",
    "                                {}\n",
    "                            ORDER BY\n",
    "                                COD_ALUMNO, COD_CURRICULUM\n",
    "                             \"\"\".format(tmp_tbl_name))"
   ]
  },
  {
   "cell_type": "code",
   "execution_count": 0,
   "metadata": {
    "application/vnd.databricks.v1+cell": {
     "cellMetadata": {},
     "inputWidgets": {},
     "nuid": "c231d966-0df8-4184-bb34-5e7fbf062c83",
     "showTitle": true,
     "title": "log"
    }
   },
   "outputs": [],
   "source": [
    "query_q = \"\"\"\n",
    "                            SELECT \n",
    "                                1900 AS ANIO_ADMISION\n",
    "                                ,-1 AS COD_ALUMNO\n",
    "                                ,-1 AS COD_CURRICULUM\n",
    "                                ,-1 AS COD_NOM_VIA_ADMISION\n",
    "                                ,-1 AS COD_DETALLE_VIA_ADMISION\n",
    "                                ,-1 AS COD_PERS\n",
    "                                ,-1 AS NRO_ALUMNO\n",
    "                                ,-1 AS PRIORID_ACADEM\n",
    "                                ,-1 AS PROM_PPA\n",
    "                                ,-1 AS NOTA_TITUL\n",
    "                                ,-1 AS RUT\n",
    "                                ,-1 AS CANT_PERIODO_REALIZADO\n",
    "                                ,-1 AS TOT_CREDITO_INSCRIP\n",
    "                                ,-1 AS TOT_ASIGN_APROB\n",
    "                                ,-1 AS TOT_ASIGN_INSCRIP\n",
    "                                ,-1 AS COD_PARAM_107_PERIODO_ADMIS\n",
    "                                ,-1 AS COD_PARAM_113_SIT_MATRIC\n",
    "                                ,-1 AS TOT_CREDITO_CONVALID\n",
    "                                ,-1 AS TOT_CREDITO_INSCRIP_PERIODO\n",
    "                                ,-1 AS COD_PARAM_185_SIT_CAUSA\n",
    "                                ,-1 AS CANT_PERIODO_SUSPEND\n",
    "                                ,-1 AS COD_PARAM_112_SIT_BIBL\n",
    "                                ,-1 AS TOT_CREDITO_APROB\n",
    "                                ,-1 AS COD_PARAM_77_VIG\n",
    "                                ,-1 AS COD_CAMPUS\n",
    "                                ,-1 AS CURRICULUM_ANTECEDE\n",
    "                                ,-1 AS COD_ALUMNO_ANTECEDE\n",
    "                                ,-1 AS ANO_ARANCEL\n",
    "                                ,-1 AS COD_PLAN\n",
    "                                ,'SIN INFORMACION' AS NOM_ALUMNO\n",
    "                                ,'SIN INFORMACION' AS COD_PARAM_114_NOTA_PEND\n",
    "                                ,'SIN INFORMACION' AS TOT_CREDITO_NOTA_PEND\n",
    "                                ,'SIN INFORMACION' AS NRO_BIBL\n",
    "                                ,'SIN INFORMACION' AS COD_PARAM_115_AYUDANTE\n",
    "                                ,'SIN INFORMACION' AS COD_PARAM_257_CICLO_TERM\n",
    "                                ,'SIN INFORMACION' AS COD_PARAM_255_SANCION_ACADEM\n",
    "                                ,'SIN INFORMACION' AS COD_PARAM_254_CREDITO_MENOS_30\n",
    "                                ,'SIN INFORMACION' AS COD_PARAM_256_CREDEN_UNIV\n",
    "                                ,'SIN INFORMACION' AS COD_PARAM_178_ETAPA_INSCRIP\n",
    "                                ,'SIN INFORMACION' AS CANT_CERT_ASIGNACION_FAMILIA\n",
    "                                ,'SIN INFORMACION' AS COD_PARAM_116_DEPOR\n",
    "                                ,'SIN INFORMACION' AS TOT_CREDITO_MIN_APROB_PERIODO\n",
    "                                ,'SIN INFORMACION' AS TOT_CREDITO_OFG_APROB_PERIODO\n",
    "                                ,'SIN INFORMACION' AS TOT_CREDITO_OPT_APROB_PERIODO\n",
    "                                ,'SIN INFORMACION' AS TOT_CREDITO_MIN_APROB\n",
    "                                ,'SIN INFORMACION' AS TOT_CREDITO_OFG_APROB\n",
    "                                ,'SIN INFORMACION' AS TOT_CREDITO_OPT_APROB\n",
    "                                ,'SIN INFORMACION' AS PROM_ARITMETICO\n",
    "                                ,'SIN INFORMACION' AS COD_PARAM_99_ORIENTACION\n",
    "                                ,'SIN INFORMACION' AS ANO_REINCORP\n",
    "                                ,'SIN INFORMACION' AS COD_CURRICULUM_TITUL\n",
    "                                ,'SIN INFORMACION' AS COD_PARAM_107_PERIODO_REINCORP\n",
    "                                ,'SIN INFORMACION' AS COD_PARAM_260_POSIBLE_ELIM\n",
    "                                ,'SIN INFORMACION' AS COD_VOTO_DISTINC\n",
    "                                ,'SIN INFORMACION' AS PRIORID_ACADEM_INSCRIP\n",
    "                                ,'1900' AS FECHA_CAMBIO_SIT_CAUSA\n",
    "                                ,'1900' AS FECHA_REG\n",
    "                            union all\n",
    "                            SELECT \n",
    "                                ANO_ADMIS                        AS ANIO_ADMISION\n",
    "                                ,COD_ALUMNO                      AS COD_ALUMNO\n",
    "                                ,COD_CURRICULUM                  AS COD_CURRICULUM\n",
    "                                ,COD_PARAM_157_VIA_INGR          AS COD_NOM_VIA_ADMISION\n",
    "                                ,COD_PARAM_158_VIA_INGR_ESPEC    AS COD_DETALLE_VIA_ADMISION\n",
    "                                ,COD_PERS                        AS COD_PERS\n",
    "                                ,NRO_ALUMNO                      AS NRO_ALUMNO\n",
    "                                ,PRIORID_ACADEM\n",
    "                                ,PROM_PPA\n",
    "                                ,NOTA_TITUL\n",
    "                                ,RUT\n",
    "                                ,CANT_PERIODO_REALIZADO\n",
    "                                ,TOT_CREDITO_INSCRIP\n",
    "                                ,TOT_ASIGN_APROB\n",
    "                                ,TOT_ASIGN_INSCRIP\n",
    "                                ,COD_PARAM_107_PERIODO_ADMIS\n",
    "                                ,COD_PARAM_113_SIT_MATRIC\n",
    "                                ,TOT_CREDITO_CONVALID\n",
    "                                ,TOT_CREDITO_INSCRIP_PERIODO\n",
    "                                ,COD_PARAM_185_SIT_CAUSA\n",
    "                                ,CANT_PERIODO_SUSPEND\n",
    "                                ,COD_PARAM_112_SIT_BIBL\n",
    "                                ,TOT_CREDITO_APROB\n",
    "                                ,COD_PARAM_77_VIG\n",
    "                                ,COD_CAMPUS\n",
    "                                ,CURRICULUM_ANTECEDE\n",
    "                                ,COD_ALUMNO_ANTECEDE\n",
    "                                ,ANO_ARANCEL\n",
    "                                ,COD_PLAN\n",
    "                                ,NOM_ALUMNO\n",
    "                                ,COD_PARAM_114_NOTA_PEND\n",
    "                                ,TOT_CREDITO_NOTA_PEND\n",
    "                                ,NRO_BIBL\n",
    "                                ,COD_PARAM_115_AYUDANTE\n",
    "                                ,COD_PARAM_257_CICLO_TERM\n",
    "                                ,COD_PARAM_255_SANCION_ACADEM\n",
    "                                ,COD_PARAM_254_CREDITO_MENOS_30\n",
    "                                ,COD_PARAM_256_CREDEN_UNIV\n",
    "                                ,COD_PARAM_178_ETAPA_INSCRIP\n",
    "                                ,CANT_CERT_ASIGNACION_FAMILIA\n",
    "                                ,COD_PARAM_116_DEPOR\n",
    "                                ,TOT_CREDITO_MIN_APROB_PERIODO\n",
    "                                ,TOT_CREDITO_OFG_APROB_PERIODO\n",
    "                                ,TOT_CREDITO_OPT_APROB_PERIODO\n",
    "                                ,TOT_CREDITO_MIN_APROB\n",
    "                                ,TOT_CREDITO_OFG_APROB\n",
    "                                ,TOT_CREDITO_OPT_APROB\n",
    "                                ,PROM_ARITMETICO\n",
    "                                ,COD_PARAM_99_ORIENTACION\n",
    "                                ,ANO_REINCORP\n",
    "                                ,COD_CURRICULUM_TITUL\n",
    "                                ,COD_PARAM_107_PERIODO_REINCORP\n",
    "                                ,COD_PARAM_260_POSIBLE_ELIM\n",
    "                                ,COD_VOTO_DISTINC\n",
    "                                ,PRIORID_ACADEM_INSCRIP\n",
    "                                ,FECHA_CAMBIO_SIT_CAUSA\n",
    "                                ,FECHA_REG\n",
    "                            FROM \n",
    "                                {}\n",
    "                            ORDER BY\n",
    "                                COD_ALUMNO, COD_CURRICULUM\n",
    "                             \"\"\".format(tmp_tbl_name)"
   ]
  },
  {
   "cell_type": "code",
   "execution_count": 0,
   "metadata": {
    "application/vnd.databricks.v1+cell": {
     "cellMetadata": {},
     "inputWidgets": {},
     "nuid": "9499a89f-a31c-42e5-a183-d126eae24164",
     "showTitle": true,
     "title": "log"
    }
   },
   "outputs": [],
   "source": [
    "#aqui se declaran de manera standar los campos necesarios para la generacion de los logs de metadata y lineage\n",
    "stage_id = \"001\"\n",
    "zone = \"SILVER\"\n",
    "entity_name = tbl\n",
    "applicant_id = \"ADMISION_SILVER\"\n",
    "description = \"Carga de tabla para modelo silver de admision\"\n",
    "business_domain = \"Admision\"\n",
    "business_subdomain = \"Admision\"\n",
    "business_usability = \"Analisis and reporting\"\n",
    "business_engineer = [\"\"]\n",
    "business_owner = [\"\"]\n",
    "business_steward = [\"\"]\n",
    "business_origin_systems = [\"ADMISION\", \"CORPORATIVO\", \"REGACAD\", \"UC_BANNER\"]\n",
    "business_sensitive_columns = [\"\"]\n",
    "step_stageId = stage_id\n",
    "step_stage_zone = zone\n",
    "step_stage_description = \"Carga en capa \"+zone+\" de la tabla \"+entity_name\n",
    "step_extract_description = \"Archivo de capa raw\"\n",
    "step_extract_records = df.count()\n",
    "step_extract_viewname = tbl\n",
    "step_extract_sourceFile = file_location\n",
    "step_transform_description = \"Proceso de carga de tabla \"+silver_tbl_name\n",
    "step_transform_query = query_q\n",
    "step_load_description = step_transform_description\n",
    "step_load_records = d_table.count()"
   ]
  },
  {
   "cell_type": "code",
   "execution_count": 0,
   "metadata": {
    "application/vnd.databricks.v1+cell": {
     "cellMetadata": {},
     "inputWidgets": {},
     "nuid": "00138775-dd4b-4671-bf7f-732a70af645d",
     "showTitle": false,
     "title": ""
    }
   },
   "outputs": [],
   "source": [
    "%sql\n",
    "CREATE SCHEMA  IF NOT EXISTS  silver"
   ]
  },
  {
   "cell_type": "code",
   "execution_count": 0,
   "metadata": {
    "application/vnd.databricks.v1+cell": {
     "cellMetadata": {},
     "inputWidgets": {},
     "nuid": "616cba98-bb2f-467a-a825-f8531855786b",
     "showTitle": false,
     "title": ""
    }
   },
   "outputs": [],
   "source": [
    "delta_tbl = silver_routhe+silver_tbl_name\n",
    "d_table.write.format(\"delta\").partitionBy(partition_field).mode(\"overwrite\").option(\"overwriteSchema\", \"true\") \\\n",
    "    .option(\"path\", delta_tbl).saveAsTable(schema+silver_tbl_name)"
   ]
  },
  {
   "cell_type": "code",
   "execution_count": 0,
   "metadata": {
    "application/vnd.databricks.v1+cell": {
     "cellMetadata": {},
     "inputWidgets": {},
     "nuid": "5a0c9983-fbcf-453e-baf2-aae8a66e23f7",
     "showTitle": true,
     "title": "log"
    }
   },
   "outputs": [],
   "source": [
    "#principalmente variables de termino de ejecucion\n",
    "end_process = datetime.now()\n",
    "end_process_time = end_process.strftime(\"%Y-%m-%d %H:%M:%S\")\n",
    "dtime = start_process - end_process\n",
    "elapsed_seconds_time = str(int(dtime.total_seconds()))\n",
    "step_load_destination_file = delta_tbl\n",
    "step_load_destination_table = schema+silver_tbl_name"
   ]
  },
  {
   "cell_type": "code",
   "execution_count": 0,
   "metadata": {
    "application/vnd.databricks.v1+cell": {
     "cellMetadata": {},
     "inputWidgets": {},
     "nuid": "0ec62d4d-9dbf-4e79-b0f4-5da51039e09e",
     "showTitle": false,
     "title": ""
    }
   },
   "outputs": [],
   "source": [
    "metadata = spark.createDataFrame([( \n",
    "                                   applicant_id, \n",
    "                                   description, \n",
    "                                   entity_name, \n",
    "                                   start_process_time, \n",
    "                                   end_process_time, \n",
    "                                   \"snapshot\", \n",
    "                                   \"snapshot\", \n",
    "                                   business_domain, \n",
    "                                   business_subdomain, \n",
    "                                   business_usability, \n",
    "                                   business_engineer, \n",
    "                                   business_owner, \n",
    "                                   business_steward, \n",
    "                                   business_origin_systems, \n",
    "                                   business_sensitive_columns)],\n",
    "                                        [\"applicant_id\", \n",
    "                                         \"description\", \n",
    "                                         \"entity_name\", \n",
    "                                         \"start_process_time\", \n",
    "                                         \"end_process_time\", \n",
    "                                         \"frecuency\", \n",
    "                                         \"ingestion_type\", \n",
    "                                         \"business_domain\", \n",
    "                                         \"business_subdomain\", \n",
    "                                         \"business_usability\", \n",
    "                                         \"business_engineer\", \n",
    "                                         \"business_owner\", \n",
    "                                         \"business_steward\", \n",
    "                                         \"business_origin_systems\", \n",
    "                                         \"business_sensitive_columns\"])\n",
    "\n",
    "lineage = spark.createDataFrame([( \n",
    "                                  entity_name, \n",
    "                                  start_process_time, \n",
    "                                  end_process_time, \n",
    "                                  step_stageId, \n",
    "                                  step_stage_zone, \n",
    "                                  step_stage_description, \n",
    "                                  step_extract_description, \n",
    "                                  step_extract_records, \n",
    "                                  step_extract_viewname, \n",
    "                                  step_extract_sourceFile, \n",
    "                                  step_transform_description, \n",
    "                                  step_transform_query, \n",
    "                                  step_load_description, \n",
    "                                  step_load_records, \n",
    "                                  step_load_destination_file, \n",
    "                                  step_load_destination_table)],\n",
    "                                    [\"entity_name\", \n",
    "                                     \"start_process_time\", \n",
    "                                     \"end_process_time\", \n",
    "                                     \"step_stageId\", \n",
    "                                     \"step_stage_zone\", \n",
    "                                     \"step_stage_description\", \n",
    "                                     \"step_extract_description\", \n",
    "                                     \"step_extract_records\", \n",
    "                                     \"step_extract_viewname\", \n",
    "                                     \"step_extract_sourceFile\", \n",
    "                                     \"step_transform_description\", \n",
    "                                     \"step_transform_query\", \n",
    "                                     \"step_load_description\", \n",
    "                                     \"step_load_records\", \n",
    "                                     \"step_load_destination_file\", \n",
    "                                     \"step_load_destination_table\"])"
   ]
  },
  {
   "cell_type": "code",
   "execution_count": 0,
   "metadata": {
    "application/vnd.databricks.v1+cell": {
     "cellMetadata": {},
     "inputWidgets": {},
     "nuid": "276456a6-ee43-4193-b612-db0f1c665077",
     "showTitle": false,
     "title": ""
    }
   },
   "outputs": [],
   "source": [
    "metadata.write.format(\"delta\").mode(\"append\").option(\"path\", log_routhe+\"/metadata.delta\").saveAsTable(\"metadata.\"+step_stage_zone.lower()+\"_\"+silver_tbl_name)\n",
    "lineage.write.format(\"delta\").mode(\"append\").option(\"path\", log_routhe+\"/lineage.delta\").saveAsTable(\"lineage.\"+step_stage_zone.lower()+\"_\"+silver_tbl_name)\n",
    "dbutils.notebook.exit([step_extract_records, step_load_records])"
   ]
  }
 ],
 "metadata": {
  "application/vnd.databricks.v1+notebook": {
   "dashboards": [],
   "language": "python",
   "notebookMetadata": {
    "pythonIndentUnit": 4
   },
   "notebookName": "silver_alumno",
   "widgets": {}
  }
 },
 "nbformat": 4,
 "nbformat_minor": 0
}
