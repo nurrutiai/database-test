{
 "cells": [
  {
   "cell_type": "code",
   "execution_count": 0,
   "metadata": {
    "application/vnd.databricks.v1+cell": {
     "cellMetadata": {
      "byteLimit": 2048000,
      "rowLimit": 10000
     },
     "inputWidgets": {},
     "nuid": "62b508e2-1b82-463b-bf4b-5f5d5ead2c54",
     "showTitle": true,
     "title": "Importacion de clases necesarias"
    }
   },
   "outputs": [],
   "source": [
    "#las clases de fechas se utilizan principalmente para dar formato a la fecha de ejecucion y para los logs\n",
    "from datetime import date, datetime\n",
    "#las librerias de pySpark se utilizan en el proceso de lectura de silver y guardado de tablas delta\n",
    "from pyspark.sql import SparkSession\n",
    "from pyspark.sql.functions import col"
   ]
  },
  {
   "cell_type": "code",
   "execution_count": 0,
   "metadata": {
    "application/vnd.databricks.v1+cell": {
     "cellMetadata": {
      "byteLimit": 2048000,
      "rowLimit": 10000
     },
     "inputWidgets": {},
     "nuid": "afe653e6-975c-4c7a-b07c-625d72d47d6e",
     "showTitle": true,
     "title": "Fecha de ejecucion"
    }
   },
   "outputs": [],
   "source": [
    "#se crea un widget para escribir la fecha de ejecucion ondemand y recivir el parametro para su ejecucion programada\n",
    "dbutils.widgets.text(name='fec_ejecucion', defaultValue='', label='fecha de ejecucion')\n",
    "txt_fec_ejecucion = dbutils.widgets.get(name='fec_ejecucion')"
   ]
  },
  {
   "cell_type": "code",
   "execution_count": 0,
   "metadata": {
    "application/vnd.databricks.v1+cell": {
     "cellMetadata": {
      "byteLimit": 2048000,
      "rowLimit": 10000
     },
     "inputWidgets": {},
     "nuid": "fa91f4f8-0eaa-4539-b3f1-53269a9222b2",
     "showTitle": true,
     "title": "Formato de fecha de ejecucion"
    }
   },
   "outputs": [],
   "source": [
    "#se formatea la fecha de ejecucion obtenida y se separa para generar los logs correspondientes\n",
    "today = datetime.strptime(txt_fec_ejecucion, \"%Y-%m-%d\")\n",
    "year = str(today.year)\n",
    "month = str(today.month).zfill(2)\n",
    "day = str(today.day).zfill(2)"
   ]
  },
  {
   "cell_type": "code",
   "execution_count": 0,
   "metadata": {
    "application/vnd.databricks.v1+cell": {
     "cellMetadata": {
      "byteLimit": 2048000,
      "rowLimit": 10000
     },
     "inputWidgets": {},
     "nuid": "ce283ae8-efac-41fc-abb8-1facf7d6bb80",
     "showTitle": true,
     "title": "Declaracion de variables proceso de lectura y carga de tabla"
    }
   },
   "outputs": [],
   "source": [
    "#variables principalmente para la lectura de tabla silver y carga de gold ademas de algunas declaraciones para logs\n",
    "stage_id = \"002\"\n",
    "zone = \"GOLD\"\n",
    "tbl = \"FT_ADMISION\"\n",
    "gold_tbl_name = \"{}\".format(tbl)\n",
    "gold_routhe = \"dbfs:/mnt/lakehouse-gold/ORACLE/\"\n",
    "log_routhe = \"dbfs:/mnt/lakehouse-gold/log/\"+gold_tbl_name\n",
    "schema = \"gold.\"\n",
    "start_process = datetime.now()\n",
    "start_process_time = start_process.strftime(\"%Y-%m-%d %H:%M:%S\")"
   ]
  },
  {
   "cell_type": "code",
   "execution_count": 0,
   "metadata": {
    "application/vnd.databricks.v1+cell": {
     "cellMetadata": {
      "byteLimit": 2048000,
      "rowLimit": 10000
     },
     "inputWidgets": {},
     "nuid": "51e6044d-8670-480c-8cec-b83353d5f979",
     "showTitle": true,
     "title": "Generacion df tabla delta"
    }
   },
   "outputs": [],
   "source": [
    "#generacion script sql para lectura de capa silver y generacion de tabla gold\n",
    "#el COD_CURRICULUM 280004 antes se homologaba al codigo 2801, ahora se homologa al 9999 porque ahora existe el codigo homologado para un postgrado, ademas confirmamos que deben cruzar las id_carrera no el homologado pues esta homologacion es solo para reporte\n",
    "#estamos a espera de confirmacion si el cruce entre las primeras 2 tablas se mantiene como left join o se cambia a inner join(ficha_alumno -> alumno)\n",
    "\n",
    "query_q = f\"\"\"\n",
    "select distinct\n",
    "f.COD_FICHA_ALUMNO AS ID_FICHA_ALUMNO,\n",
    "coalesce(cole.ID_COLEGIO,-1) AS ID_COLEGIO,\n",
    "coalesce(a.COD_PERS,-1) AS ID_PERSONA,\n",
    "coalesce(car.COD_CARRERA,-1) AS ID_CARRERA,\n",
    "coalesce(cu.COD_CURRICULUM,-1) AS ID_CURRICULUM,\n",
    "coalesce(car.COD_CAMPUS,-1) AS ID_CAMPUS,\n",
    "coalesce(unac.COD_FACULTAD,-1) AS ID_FACULTAD,\n",
    "coalesce(a.COD_NOM_VIA_ADMISION,-1) AS ID_VIA_ADMISION,\n",
    "CAST(coalesce(det_via.COD_PARAM,-1) AS INT) AS ID_DETALLE_VIA_ADMISION,\n",
    "Case\n",
    "    when car.COD_CARRERA = 301 then 201\n",
    "    when car.COD_CARRERA = 501 then 500\n",
    "    when car.COD_CARRERA = 600 then 610\n",
    "    when car.COD_CARRERA = 620 and f.ANIO_FICHA < 2018 then 610\n",
    "    when car.COD_CARRERA = 1110 then 1100\n",
    "    when car.COD_CARRERA = 1001 then 800\n",
    "    when car.COD_CARRERA in(1390,1391) then 1300\n",
    "    when car.COD_CARRERA in(3800,3803) then 3830\n",
    "    when car.COD_CARRERA = 7000 then 7002\n",
    "    when car.COD_CARRERA = 7001 then 7003\n",
    "    when car.COD_CARRERA in(9101,9104,9201) then 9204\n",
    "    when a.COD_CURRICULUM = 280004 then 9999\n",
    "    when car.COD_CARRERA = 6410 then 6417\n",
    "    when car.COD_CARRERA = 6413 then 6418\n",
    "    when car.COD_CARRERA = 9 then 2076 else coalesce(car.COD_CARRERA,-1)\n",
    "end ID_CARRERA_HOMOLOGA,\n",
    "hc.CLAVE_NACIONAL AS ID_CARRERA_DEMRE,\n",
    "f.ANIO_EGRESO_COLEGIO,\n",
    "f.ANIO_FICHA,\n",
    "f.COD_ALUMNO,\n",
    "f.COD_NIVEL_EDUCACIONAL_MADRE,\n",
    "f.COD_NIVEL_EDUCACIONAL_PADRE,\n",
    "f.COD_PREFERENCIA_POSTULACION,\n",
    "case\n",
    "    when f.COD_PREFERENCIA_POSTULACION = 1 then \"Primera Preferencia\"\n",
    "    when f.COD_PREFERENCIA_POSTULACION = 2 then \"Segunda Preferencia\"\n",
    "    when f.COD_PREFERENCIA_POSTULACION >= 3 then \"Tercera (o más) Preferencia\"\n",
    "    else \"Sin Información\"\n",
    "end as DESC_PREFERENCIA_POSTULACION,\n",
    "f.COD_CON_QUIEN_VIVE,\n",
    "f.COD_PERIODO_FICHA AS COD_SEMESTRE_ADMISION,\n",
    "f.PROM_PAA AS PROM_LENGUAJE_MATEMATICAS,\n",
    "f.PRUEBA_PAA_HISTORIA,\n",
    "f.PRUEBA_PAA_MATEM,\n",
    "f.PRUEBA_PAA_VERBAL,\n",
    "f.PRUEBA_PCE_BIOLOGIA,\n",
    "f.PRUEBA_PCE_CSS,\n",
    "f.PRUEBA_PCE_FISICA,\n",
    "f.PRUEBA_PCE_MATEM,\n",
    "f.PRUEBA_PCE_QUIM,\n",
    "f.PRUEBA_PAES_CIENC,\n",
    "f.PRUEBA_PAES_CLEC,\n",
    "f.PRUEBA_PAES_HISCS,\n",
    "f.PRUEBA_PAES_MATM1,\n",
    "f.PRUEBA_PAES_MATM2,\n",
    "f.PRUEBA_PSU_LENG_COMUNIC,\n",
    "f.PRUEBA_PSU_MATEM,\n",
    "f.PRUEBA_PSU_HIST_CSS,\n",
    "f.PRUEBA_PSU_CIENCIA,\n",
    "f.PRUEBA_ESPECIAL,\n",
    "f.PTJE_NOTA_ENSEN_MEDIA,\n",
    "f.PTJE_POND_SELEC,\n",
    "f.PTJE_RANKING,\n",
    "f.PUESTO,\n",
    "coalesce(a.NRO_ALUMNO,\"-1\") AS NUM_ALUMNO,\n",
    "CASE  WHEN f.ANIO_EGRESO_COLEGIO <= 1900 or f.ANIO_EGRESO_COLEGIO is null then \"Sin Información\"\n",
    "      WHEN f.ANIO_FICHA-f.ANIO_EGRESO_COLEGIO = 1 then \"De la Promoción\"\n",
    "      ELSE \"Rezagados\" \n",
    "End AS DESC_ANIO_EGRESO_ENSENANZA_MEDIA,\n",
    "CASE\n",
    "    WHEN via_ad.NOM_PARAM = 'ORDINARIA PAA' THEN 'Admisión Centralizada'\n",
    "    WHEN det_via.NOM_PARAM IN ('BECA EXCELENCIA ACADEMICA', 'TALENTOS E INCLUSION', 'INCLUSIÓN VILLARRICA', 'PACE', 'EQUIDAD DGÉNERO', 'INTERCULTURALIDAD', 'PERSONAS CON DISCAPACIDAD') THEN 'Admisión Equidad'\n",
    "    WHEN via_ad.NOM_PARAM = 'COMPLEMENTARIA' THEN 'Admisión Especial o Complementaria'\n",
    "    ELSE 'Otras Vías Admisión Especial'\n",
    "END AS DESC_VIA_ADMISION_EQUIDAD,\n",
    "CASE\n",
    "    WHEN via_ad.NOM_PARAM = 'ORDINARIA PAA' THEN 'Admisión Centralizada'\n",
    "    WHEN det_via.NOM_PARAM = 'BECA EXCELENCIA ACADEMICA' THEN 'BEA'\n",
    "    WHEN det_via.NOM_PARAM IN ('TALENTOS E INCLUSION', 'INCLUSIÓN VILLARRICA') THEN 'Talento e Inclusión'\n",
    "    WHEN det_via.NOM_PARAM = 'PACE' THEN 'PACE'\n",
    "    WHEN det_via.NOM_PARAM = 'EQUIDAD DE GÉNERO' AND car.COD_UNIDAD_ACADEM = 38 THEN 'Equidad de Género Teología'\n",
    "    WHEN det_via.NOM_PARAM = 'EQUIDAD DE GÉNERO' AND car.COD_UNIDAD_ACADEM != 38 THEN 'Cupo Mujeres en Ciencia'\n",
    "    WHEN det_via.NOM_PARAM = 'INTERCULTURALIDAD' THEN 'Intercultural'\n",
    "    WHEN det_via.NOM_PARAM = 'PERSONAS CON DISCAPACIDAD' THEN 'Necesidades Especiales'\n",
    "    WHEN via_ad.NOM_PARAM = 'COMPLEMENTARIA' THEN 'Admisión Especial o Complementaria'\n",
    "    ELSE 'Otras Vías Admisión Especial'\n",
    "END AS DESC_DETALLE_VIA_ADMISION,\n",
    "Case \n",
    "    WHEN deped.NOM_PARAM = \"\" or deped.NOM_PARAM =\"NO TIENE\" or  deped.NOM_PARAM is null then \"Sin Información\"\n",
    "    WHEN deped.NOM_PARAM in(\"CORPORACIÓN DE ADMINISTRACIÓN DELEGADA\",\"CORPORACIÓN MUNICIPAL\",\"MUNICIPAL\",\"SERVICIO LOCAL DE EDUCACIÓN (SLE)\",\"SUBVENCIONADO GRATUITO\") then \"Público (Mun + SLE)\"\n",
    "    WHEN deped.NOM_PARAM in(\"FINANCIAMIENTO COMPARTIDO\",\"PARTICULAR SUBVENCIONADO\") then \"Particular Subvencionado\"\n",
    "    WHEN deped.NOM_PARAM in(\"PAGADO\",\"PARTICULAR NO SUBVENCIONADO\") then \"Particular Pagado\"\n",
    "    ELSE \"Sin Información\" \n",
    "END AS DESC_DEPENDENCIA_EDUCACIONAL,\n",
    "Case \n",
    "    WHEN reg.DESC_REGION_ABREV = \"\" or reg.DESC_REGION_ABREV  =\"No\" THEN \"Sin Información\" \n",
    "    WHEN reg.DESC_REGION_ABREV = \"XIII\" THEN \"Región Metropolitana\"\n",
    "    ELSE \"Otras Regiones\" \n",
    "END AS DESC_AGRUP_REGION_COLEGIO,\n",
    "CASE WHEN f.COD_NIVEL_EDUCACIONAL_MADRE IN(8,9,21) or f.COD_NIVEL_EDUCACIONAL_PADRE in(8,9,21)  then \"No Primera Generación\" \n",
    "     WHEN f.COD_NIVEL_EDUCACIONAL_MADRE = 0 and f.COD_NIVEL_EDUCACIONAL_PADRE = 0 then \"Sin Información\" \n",
    "     WHEN f.COD_NIVEL_EDUCACIONAL_MADRE is null and f.COD_NIVEL_EDUCACIONAL_PADRE is null then \"Sin Información\" \n",
    "     ELSE \"Primera Generación\" \n",
    "END AS DESC_GEN_UNIVERSITARIA_FAMILIAR,\n",
    "ramed.NOM_PARAM AS DESC_RAMA_EDUCACIONAL,\n",
    "case  \n",
    "    when  f.ptje_pond_selec >= 500 and f.ptje_pond_selec < 520  then \"[500-520)\"\n",
    "    when  f.ptje_pond_selec >= 520 and f.ptje_pond_selec < 540  then \"[520-540)\"\n",
    "    when  f.ptje_pond_selec >= 540 and f.ptje_pond_selec < 560  then \"[540-560)\"\n",
    "    when  f.ptje_pond_selec >= 560 and f.ptje_pond_selec < 580  then \"[560-580)\"\n",
    "    when  f.ptje_pond_selec >= 580 and f.ptje_pond_selec < 600  then \"[580-600)\"\n",
    "    when  f.ptje_pond_selec >= 600 and f.ptje_pond_selec < 620  then \"[600-620)\"\n",
    "    when  f.ptje_pond_selec >= 620 and f.ptje_pond_selec < 640  then \"[620-640)\"\n",
    "    when  f.ptje_pond_selec >= 640 and f.ptje_pond_selec < 660  then \"[640-660)\"\n",
    "    when  f.ptje_pond_selec >= 660 and f.ptje_pond_selec < 680  then \"[660-680)\"\n",
    "    when  f.ptje_pond_selec >= 680 and f.ptje_pond_selec < 700  then \"[680-700)\"\n",
    "    when  f.ptje_pond_selec >= 700 and f.ptje_pond_selec < 720  then \"[700-720)\"\n",
    "    when  f.ptje_pond_selec >= 720 and f.ptje_pond_selec < 740  then \"[720-740)\"\n",
    "    when  f.ptje_pond_selec >= 740 and f.ptje_pond_selec < 760  then \"[740-760)\"\n",
    "    when  f.ptje_pond_selec >= 760 and f.ptje_pond_selec < 780  then \"[760-780)\"\n",
    "    when  f.ptje_pond_selec >= 780 and f.ptje_pond_selec < 800  then \"[780-800)\"\n",
    "    when  f.ptje_pond_selec >= 800 and f.ptje_pond_selec < 820  then \"[800-820)\"\n",
    "    when  f.ptje_pond_selec >= 820 and f.ptje_pond_selec < 840  then \"[820-840)\"\n",
    "    when  f.ptje_pond_selec >= 840 and f.ptje_pond_selec < 860  then \"[840-860)\"\n",
    "    when  f.ptje_pond_selec >= 860 and f.ptje_pond_selec < 880  then \"[860-880)\"\n",
    "    when  f.ptje_pond_selec >= 880 and f.ptje_pond_selec < 900  then \"[880-900)\"\n",
    "    when  f.ptje_pond_selec >= 900 and f.ptje_pond_selec < 920  then \"[900-920)\"\n",
    "    when  f.ptje_pond_selec >= 920 and f.ptje_pond_selec < 940  then \"[920-940)\"\n",
    "    when  f.ptje_pond_selec >= 940 and f.ptje_pond_selec < 960  then \"[940-960)\"\n",
    "    when  f.ptje_pond_selec >= 960 and f.ptje_pond_selec < 980  then \"[960-980)\"\n",
    "    when  f.ptje_pond_selec >= 980 then \"980 o más\" \n",
    "    else \"Sin Información\"\n",
    "end TRAMO_PUNTAJE_PONDERADO\n",
    "from silver.adm_ficha_alumno f\n",
    "left join silver.mst_trv_alumno a on f.COD_ALUMNO =a.COD_ALUMNO\n",
    "left join silver.mst_trv_param via_ad on via_ad.COD_PARAM = a.COD_NOM_VIA_ADMISION and via_ad.TIPO_PARAM = 157\n",
    "left join silver.mst_trv_param det_via on det_via.COD_PARAM = a.COD_DETALLE_VIA_ADMISION and det_via.TIPO_PARAM = 158\n",
    "left join silver.mst_trv_curriculum cu on cu.COD_CURRICULUM = a.COD_CURRICULUM\n",
    "left join silver.mst_trv_carrera car on car.COD_CARRERA = cu.COD_CARRERA\n",
    "left join silver.mst_adm_colegio cole on f.ID_COLEGIO = cole.ID_COLEGIO\n",
    "left join silver.mst_trv_unidad_academica unac on car.COD_UNIDAD_ACADEM = unac.COD_UNIDAD_ACADEM\n",
    "left join silver.hist_carrera hc on hc.COD_CURRICULUM = a.COD_CURRICULUM and hc.ANIO_ADMIS = a.ANIO_ADMISION\n",
    "left join silver.mst_trv_param deped on deped.COD_PARAM = cole.COD_TIPO_FINANCIAMIENTO and deped.TIPO_PARAM = 3\n",
    "left join silver.mst_trv_geo_region reg on reg.cod_region = cole.COD_REGION\n",
    "left join silver.mst_trv_param ramed on ramed.COD_PARAM = cole.COD_TIPO_EDUCACION and ramed.TIPO_PARAM = 1\n",
    "                             \"\"\"\n",
    "d_table = spark.sql(query_q)"
   ]
  },
  {
   "cell_type": "code",
   "execution_count": 0,
   "metadata": {
    "application/vnd.databricks.v1+cell": {
     "cellMetadata": {
      "byteLimit": 2048000,
      "rowLimit": 10000
     },
     "inputWidgets": {},
     "nuid": "6a0d67ef-3357-432a-b770-1fb654dc2a5a",
     "showTitle": true,
     "title": "Variables Logs"
    }
   },
   "outputs": [],
   "source": [
    "#aqui se declaran de manera standar los campos necesarios para la generacion de los logs de metadata y lineage\n",
    "entity_name = tbl\n",
    "applicant_id = \"ADMISION_GOLD\"\n",
    "description = \"Carga de tabla para modelo gold de admision\"\n",
    "business_domain = \"Admision\"\n",
    "business_subdomain = \"Admision\"\n",
    "business_usability = \"Analisis and reporting\"\n",
    "business_engineer = [\"\"]\n",
    "business_owner = [\"\"]\n",
    "business_steward = [\"\"]\n",
    "business_origin_systems = [\"ADMISION\", \"CORPORATIVO\", \"REGACAD\", \"UC_BANNER\"]\n",
    "business_sensitive_columns = [\"\"]\n",
    "step_stageId = stage_id\n",
    "step_stage_zone = zone\n",
    "step_stage_description = \"Carga en capa \"+zone+\" de la tabla \"+entity_name\n",
    "step_extract_description = \"Proceso de carga de tabla \"+gold_tbl_name\n",
    "step_extract_records = d_table.count()\n",
    "step_extract_viewname = gold_tbl_name\n",
    "step_extract_sourceFile = \"N/A\"\n",
    "step_transform_description = step_extract_description\n",
    "step_transform_query = query_q\n",
    "step_load_description = step_extract_description\n",
    "step_load_records = d_table.count()"
   ]
  },
  {
   "cell_type": "code",
   "execution_count": 0,
   "metadata": {
    "application/vnd.databricks.v1+cell": {
     "cellMetadata": {
      "byteLimit": 2048000,
      "implicitDf": true,
      "rowLimit": 10000
     },
     "inputWidgets": {},
     "nuid": "1c718e9e-9d9e-410b-9b88-2080cc5f5e40",
     "showTitle": true,
     "title": "Creacion de esquema en catalogo DataBricks"
    }
   },
   "outputs": [],
   "source": [
    "%sql\n",
    "CREATE SCHEMA  IF NOT EXISTS  gold"
   ]
  },
  {
   "cell_type": "code",
   "execution_count": 0,
   "metadata": {
    "application/vnd.databricks.v1+cell": {
     "cellMetadata": {
      "byteLimit": 2048000,
      "rowLimit": 10000
     },
     "inputWidgets": {},
     "nuid": "1e2f627f-c2ad-4026-9a94-6a38579f3a11",
     "showTitle": true,
     "title": "Guardado de tabla delta en ruta gold y registro en catalogo de DataBricks"
    }
   },
   "outputs": [],
   "source": [
    "delta_tbl = gold_routhe+gold_tbl_name\n",
    "d_table.write.format(\"delta\").mode(\"overwrite\").option(\"overwriteSchema\", \"true\") \\\n",
    "    .option(\"path\", delta_tbl).saveAsTable(schema+gold_tbl_name)"
   ]
  },
  {
   "cell_type": "code",
   "execution_count": 0,
   "metadata": {
    "application/vnd.databricks.v1+cell": {
     "cellMetadata": {
      "byteLimit": 2048000,
      "rowLimit": 10000
     },
     "inputWidgets": {},
     "nuid": "c5123b8e-712d-4f9c-ba03-1abdf2b0cb79",
     "showTitle": true,
     "title": "Variables de log"
    }
   },
   "outputs": [],
   "source": [
    "#principalmente variables de termino de ejecucion\n",
    "end_process = datetime.now()\n",
    "end_process_time = end_process.strftime(\"%Y-%m-%d %H:%M:%S\")\n",
    "dtime = start_process - end_process\n",
    "elapsed_seconds_time = str(int(dtime.total_seconds()))"
   ]
  },
  {
   "cell_type": "code",
   "execution_count": 0,
   "metadata": {
    "application/vnd.databricks.v1+cell": {
     "cellMetadata": {
      "byteLimit": 2048000,
      "rowLimit": 10000
     },
     "inputWidgets": {},
     "nuid": "7127d444-c6e8-4912-a682-d48044ee61dc",
     "showTitle": false,
     "title": ""
    }
   },
   "outputs": [],
   "source": [
    "step_load_destination_file = delta_tbl\n",
    "step_load_destination_table = schema+gold_tbl_name"
   ]
  },
  {
   "cell_type": "code",
   "execution_count": 0,
   "metadata": {
    "application/vnd.databricks.v1+cell": {
     "cellMetadata": {
      "byteLimit": 2048000,
      "rowLimit": 10000
     },
     "inputWidgets": {},
     "nuid": "4f53188d-7d1d-4982-b530-c12b21d2a8b9",
     "showTitle": true,
     "title": "Creacion de estructura de logs"
    }
   },
   "outputs": [],
   "source": [
    "metadata = spark.createDataFrame([( \n",
    "                                   applicant_id, \n",
    "                                   description, \n",
    "                                   entity_name, \n",
    "                                   start_process_time, \n",
    "                                   end_process_time, \n",
    "                                   \"snapshot\", \n",
    "                                   \"snapshot\", \n",
    "                                   business_domain, \n",
    "                                   business_subdomain, \n",
    "                                   business_usability, \n",
    "                                   business_engineer, \n",
    "                                   business_owner, \n",
    "                                   business_steward, \n",
    "                                   business_origin_systems, \n",
    "                                   business_sensitive_columns)],\n",
    "                                        [\"applicant_id\", \n",
    "                                         \"description\", \n",
    "                                         \"entity_name\", \n",
    "                                         \"start_process_time\", \n",
    "                                         \"end_process_time\", \n",
    "                                         \"frecuency\", \n",
    "                                         \"ingestion_type\", \n",
    "                                         \"business_domain\", \n",
    "                                         \"business_subdomain\", \n",
    "                                         \"business_usability\", \n",
    "                                         \"business_engineer\", \n",
    "                                         \"business_owner\", \n",
    "                                         \"business_steward\", \n",
    "                                         \"business_origin_systems\", \n",
    "                                         \"business_sensitive_columns\"])\n",
    "\n",
    "lineage = spark.createDataFrame([( \n",
    "                                  entity_name, \n",
    "                                  start_process_time, \n",
    "                                  end_process_time, \n",
    "                                  step_stageId, \n",
    "                                  step_stage_zone, \n",
    "                                  step_stage_description, \n",
    "                                  step_extract_description, \n",
    "                                  step_extract_records, \n",
    "                                  step_extract_viewname, \n",
    "                                  step_extract_sourceFile, \n",
    "                                  step_transform_description, \n",
    "                                  step_transform_query, \n",
    "                                  step_load_description, \n",
    "                                  step_load_records, \n",
    "                                  step_load_destination_file, \n",
    "                                  step_load_destination_table)],\n",
    "                                    [\"entity_name\", \n",
    "                                     \"start_process_time\", \n",
    "                                     \"end_process_time\", \n",
    "                                     \"step_stageId\", \n",
    "                                     \"step_stage_zone\", \n",
    "                                     \"step_stage_description\", \n",
    "                                     \"step_extract_description\", \n",
    "                                     \"step_extract_records\", \n",
    "                                     \"step_extract_viewname\", \n",
    "                                     \"step_extract_sourceFile\", \n",
    "                                     \"step_transform_description\", \n",
    "                                     \"step_transform_query\", \n",
    "                                     \"step_load_description\", \n",
    "                                     \"step_load_records\", \n",
    "                                     \"step_load_destination_file\", \n",
    "                                     \"step_load_destination_table\"])"
   ]
  },
  {
   "cell_type": "code",
   "execution_count": 0,
   "metadata": {
    "application/vnd.databricks.v1+cell": {
     "cellMetadata": {
      "byteLimit": 2048000,
      "rowLimit": 10000
     },
     "inputWidgets": {},
     "nuid": "bb871a32-2341-44df-a81e-523b343ffbdb",
     "showTitle": true,
     "title": "Guardado de logs"
    }
   },
   "outputs": [],
   "source": [
    "metadata.write.format(\"delta\").mode(\"append\").option(\"path\", log_routhe+\"/metadata.delta\").saveAsTable(\"metadata.\"+step_stage_zone.lower()+\"_\"+gold_tbl_name)\n",
    "lineage.write.format(\"delta\").mode(\"append\").option(\"path\", log_routhe+\"/lineage.delta\").saveAsTable(\"lineage.\"+step_stage_zone.lower()+\"_\"+gold_tbl_name)\n",
    "dbutils.notebook.exit([step_extract_records, step_load_records])"
   ]
  }
 ],
 "metadata": {
  "application/vnd.databricks.v1+notebook": {
   "dashboards": [],
   "language": "python",
   "notebookMetadata": {
    "mostRecentlyExecutedCommandWithImplicitDF": {
     "commandId": 569335063560550,
     "dataframes": [
      "_sqldf"
     ]
    },
    "pythonIndentUnit": 4
   },
   "notebookName": "gold_ft_admision",
   "widgets": {
    "fec_ejecucion": {
     "currentValue": "",
     "nuid": "73a7c659-ac07-4446-9a2d-877051971e9d",
     "widgetInfo": {
      "widgetType": "text",
      "defaultValue": "",
      "label": "fecha de ejecucion",
      "name": "fec_ejecucion",
      "options": {
       "widgetType": "text",
       "autoCreated": null,
       "validationRegex": null
      }
     }
    }
   }
  }
 },
 "nbformat": 4,
 "nbformat_minor": 0
}
