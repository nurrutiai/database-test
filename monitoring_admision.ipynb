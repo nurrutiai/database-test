{
 "cells": [
  {
   "cell_type": "code",
   "execution_count": 0,
   "metadata": {
    "application/vnd.databricks.v1+cell": {
     "cellMetadata": {},
     "inputWidgets": {},
     "nuid": "85cec33b-37dc-4039-813d-8d7ae696aeb3",
     "showTitle": false,
     "title": ""
    }
   },
   "outputs": [],
   "source": [
    "import datetime\n",
    "from datetime import date, datetime\n",
    "from pyspark.sql import SparkSession"
   ]
  },
  {
   "cell_type": "code",
   "execution_count": 0,
   "metadata": {
    "application/vnd.databricks.v1+cell": {
     "cellMetadata": {},
     "inputWidgets": {},
     "nuid": "91d9ce7a-d246-439a-862b-d6b98da2cb0f",
     "showTitle": false,
     "title": ""
    }
   },
   "outputs": [],
   "source": [
    "dbutils.widgets.text(name='fec_ejecucion', defaultValue='', label='fecha de ejecucion')\n",
    "txt_fec_ejecucion = dbutils.widgets.get(name='fec_ejecucion')"
   ]
  },
  {
   "cell_type": "code",
   "execution_count": 0,
   "metadata": {
    "application/vnd.databricks.v1+cell": {
     "cellMetadata": {},
     "inputWidgets": {},
     "nuid": "b1341a2c-ac91-4134-9c00-5dc2c3863030",
     "showTitle": false,
     "title": ""
    }
   },
   "outputs": [],
   "source": [
    "today = datetime.strptime(txt_fec_ejecucion, \"%Y-%m-%d\")\n",
    "year = str(today.year)\n",
    "month = str(today.month).zfill(2)\n",
    "day = str(today.day).zfill(2)"
   ]
  },
  {
   "cell_type": "code",
   "execution_count": 0,
   "metadata": {
    "application/vnd.databricks.v1+cell": {
     "cellMetadata": {},
     "inputWidgets": {},
     "nuid": "829a374e-a63b-4bcc-a1e2-3244f36b7b8a",
     "showTitle": false,
     "title": ""
    }
   },
   "outputs": [],
   "source": [
    "ruta_silver = \"../SILVER/\"\n",
    "ruta_gold = \"../GOLD/\""
   ]
  },
  {
   "cell_type": "code",
   "execution_count": 0,
   "metadata": {
    "application/vnd.databricks.v1+cell": {
     "cellMetadata": {},
     "inputWidgets": {},
     "nuid": "83d1d0f8-2a58-45d1-9678-48d34abda796",
     "showTitle": false,
     "title": ""
    }
   },
   "outputs": [],
   "source": [
    "def log_monitoring(notebook_destino, start_process_time, end_process_time, elapsed_seconds_time, error_message, tabla_destino, step_extract_records, step_load_records, step_stage_zone):\n",
    "    monitoring = spark.createDataFrame([( \n",
    "                                   notebook_destino, \n",
    "                                   start_process_time, \n",
    "                                   end_process_time,\n",
    "                                   elapsed_seconds_time,\n",
    "                                   error_message,\n",
    "                                   step_extract_records,\n",
    "                                   step_load_records,\n",
    "                                   step_stage_zone\n",
    "                                   )],\n",
    "                                        [\"entity_name\", \n",
    "                                         \"start_process_time\", \n",
    "                                         \"end_process_time\", \n",
    "                                         \"elapsed_seconds_time\", \n",
    "                                         \"error_message\",\n",
    "                                         \"step_extract_records\",\n",
    "                                         \"step_load_records\",\n",
    "                                         \"step_stage_zone\"\n",
    "                                         ])\n",
    "    monitoring.write.format(\"delta\").mode(\"append\").option(\"path\", \"dbfs:/mnt/lakehouse-silver/log/\"+tabla_destino+\"/monitoring.delta\").saveAsTable(\"monitoring.\"+step_stage_zone+\"_\"+tabla_destino)"
   ]
  },
  {
   "cell_type": "code",
   "execution_count": 0,
   "metadata": {
    "application/vnd.databricks.v1+cell": {
     "cellMetadata": {},
     "inputWidgets": {},
     "nuid": "68191f7e-b351-4591-b976-caf8aa7d1256",
     "showTitle": false,
     "title": ""
    }
   },
   "outputs": [],
   "source": [
    "def notebook_run (step_stage_zone, notebook_destino, tabla_destino):\n",
    "    start_process = datetime.now()\n",
    "    start_process_time = start_process.strftime(\"%Y-%m-%d %H:%M:%S\")\n",
    "    error_message = \"\"\n",
    "    try:\n",
    "        response = dbutils.notebook.run(notebook_destino, 3600, {\"fec_ejecucion\":txt_fec_ejecucion})\n",
    "        step_extract_records = eval(response)[0]\n",
    "        step_load_records = eval(response)[1]\n",
    "    except Exception as e:\n",
    "        error_message = \"Error al ejecutar con mensaje: \"+ str(e)\n",
    "        print(\"Error en: \" + notebook_destino)\n",
    "        step_extract_records = 0\n",
    "        step_load_records = 0\n",
    "    end_process = datetime.now()\n",
    "    end_process_time = end_process.strftime(\"%Y-%m-%d %H:%M:%S\")\n",
    "    dtime = end_process - start_process\n",
    "    elapsed_seconds_time = str(int(dtime.total_seconds()))\n",
    "    log_monitoring(notebook_destino, start_process_time, end_process_time, elapsed_seconds_time, error_message, tabla_destino, step_extract_records, step_load_records, step_stage_zone)"
   ]
  },
  {
   "cell_type": "code",
   "execution_count": 0,
   "metadata": {
    "application/vnd.databricks.v1+cell": {
     "cellMetadata": {},
     "inputWidgets": {},
     "nuid": "82435b87-39cd-4b40-bf93-9982b67aa212",
     "showTitle": false,
     "title": ""
    }
   },
   "outputs": [],
   "source": [
    "l_notebook_tbl = [\n",
    "                    [\"silver\", ruta_silver+\"silver_colegio\", \"MST_ADM_COLEGIO\"], \n",
    "                    [\"silver\", ruta_silver+\"silver_alumno\", \"MST_TRV_ALUMNO\"],\n",
    "                    [\"silver\", ruta_silver+\"silver_campus\", \"MST_TRV_CAMPUS\"],\n",
    "                    [\"silver\", ruta_silver+\"silver_carrera\", \"MST_TRV_CARRERA\"],\n",
    "                    [\"silver\", ruta_silver+\"silver_ciudad\", \"MST_TRV_GEO_CIUDAD\"],\n",
    "                    [\"silver\", ruta_silver+\"silver_comuna\", \"MST_TRV_GEO_COMUNA\"],\n",
    "                    [\"silver\", ruta_silver+\"silver_curriculum\", \"MST_TRV_CURRICULUM\"],\n",
    "                    [\"silver\", ruta_silver+\"silver_etnia\", \"MST_TRV_ETNIA\"],\n",
    "                    [\"silver\", ruta_silver+\"silver_facultad\", \"MST_TRV_FACULTAD\"],\n",
    "                    [\"silver\", ruta_silver+\"silver_ficha_alumno\", \"ADM_FICHA_ALUMNO\"],\n",
    "                    [\"silver\", ruta_silver+\"silver_hist_carrera\", \"HIST_CARRERA\"],\n",
    "                    [\"silver\", ruta_silver+\"silver_pais\", \"MST_TRV_GEO_PAIS\"],\n",
    "                    [\"silver\", ruta_silver+\"silver_param\", \"MST_TRV_PARAM\"],\n",
    "                    [\"silver\", ruta_silver+\"silver_persona\", \"MST_TRV_PERSONA\"],\n",
    "                    [\"silver\", ruta_silver+\"silver_region\", \"MST_TRV_GEO_REGION\"],\n",
    "                    [\"silver\", ruta_silver+\"silver_solic_ingr\", \"ADM_SOLIC_INGR\"],\n",
    "                    [\"silver\", ruta_silver+\"silver_unidad_academica\", \"MST_TRV_UNIDAD_ACADEMICA\"],\n",
    "                    [\"silver\", ruta_silver+\"silver_postulante\", \"ADM_POSTULANTE\"],\n",
    "                    [\"gold\", ruta_gold+\"gold_lk_campus\", \"LK_CAMPUS\"],\n",
    "                    [\"gold\", ruta_gold+\"gold_lk_carrera\", \"LK_CARRERA\"],\n",
    "                    [\"gold\", ruta_gold+\"gold_lk_colegio\", \"LK_COLEGIO\"],\n",
    "                    [\"gold\", ruta_gold+\"gold_lk_curriculum\", \"LK_CURRICULUM\"],\n",
    "                    [\"gold\", ruta_gold+\"gold_lk_facultad\", \"LK_FACULTAD\"],\n",
    "                    [\"gold\", ruta_gold+\"gold_lk_persona\", \"LK_PERSONA\"],\n",
    "                    [\"gold\", ruta_gold+\"gold_lk_via_admision\", \"LK_VIA_ADMISION\"],\n",
    "                    [\"gold\", ruta_gold+\"gold_lk_detalle_via_admision\", \"LK_DETALLE_VIA_ADMISION\"],\n",
    "                    [\"gold\", ruta_gold+\"gold_ft_postulante\", \"FT_POSTULANTE\"],\n",
    "                    [\"gold\", ruta_gold+\"gold_ft_admision\", \"FT_ADMISION\"],\n",
    "                    [\"gold\", ruta_gold+\"gold_ft_hist_carrera\", \"FT_HIST_CARRERA\"],\n",
    "                    [\"gold\", ruta_gold+\"gold_ft_solic_ingr\", \"FT_SOLIC_INGR\"]\n",
    "                ]"
   ]
  },
  {
   "cell_type": "code",
   "execution_count": 0,
   "metadata": {
    "application/vnd.databricks.v1+cell": {
     "cellMetadata": {},
     "inputWidgets": {},
     "nuid": "ff9157b2-1509-466d-bf12-7e70d51df789",
     "showTitle": false,
     "title": ""
    }
   },
   "outputs": [],
   "source": [
    "for d_destino in l_notebook_tbl:\n",
    "    notebook_run(d_destino[0], d_destino[1], d_destino[2])"
   ]
  }
 ],
 "metadata": {
  "application/vnd.databricks.v1+notebook": {
   "dashboards": [],
   "language": "python",
   "notebookMetadata": {
    "pythonIndentUnit": 4
   },
   "notebookName": "monitoring_admision",
   "widgets": {}
  }
 },
 "nbformat": 4,
 "nbformat_minor": 0
}
